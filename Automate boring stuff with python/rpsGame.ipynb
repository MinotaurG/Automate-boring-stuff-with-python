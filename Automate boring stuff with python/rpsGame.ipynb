{
 "cells": [
  {
   "cell_type": "code",
   "execution_count": null,
   "metadata": {},
   "outputs": [
    {
     "name": "stdout",
     "output_type": "stream",
     "text": [
      "Rock, Paper, Scissors\n",
      "0 wins, 0 Losses, 0 Ties\n",
      "Enter your move: (r)ock (p)paper (s)cissors or (q)uit\n"
     ]
    },
    {
     "name": "stdin",
     "output_type": "stream",
     "text": [
      " p\n"
     ]
    },
    {
     "name": "stdout",
     "output_type": "stream",
     "text": [
      "Paper versus...\n",
      "Scissors\n",
      "You lose!\n",
      "0 wins, 1 Losses, 0 Ties\n",
      "Enter your move: (r)ock (p)paper (s)cissors or (q)uit\n"
     ]
    },
    {
     "name": "stdin",
     "output_type": "stream",
     "text": [
      " s\n"
     ]
    },
    {
     "name": "stdout",
     "output_type": "stream",
     "text": [
      "Stone versus...\n",
      "Rock\n",
      "You lose!\n",
      "0 wins, 2 Losses, 0 Ties\n",
      "Enter your move: (r)ock (p)paper (s)cissors or (q)uit\n"
     ]
    },
    {
     "name": "stdin",
     "output_type": "stream",
     "text": [
      " r\n"
     ]
    },
    {
     "name": "stdout",
     "output_type": "stream",
     "text": [
      "Rock versus...\n",
      "Paper\n",
      "You lose!\n",
      "0 wins, 3 Losses, 0 Ties\n",
      "Enter your move: (r)ock (p)paper (s)cissors or (q)uit\n"
     ]
    },
    {
     "name": "stdin",
     "output_type": "stream",
     "text": [
      " p\n"
     ]
    },
    {
     "name": "stdout",
     "output_type": "stream",
     "text": [
      "Paper versus...\n",
      "Rock\n",
      "You win!\n",
      "1 wins, 3 Losses, 0 Ties\n",
      "Enter your move: (r)ock (p)paper (s)cissors or (q)uit\n"
     ]
    },
    {
     "name": "stdin",
     "output_type": "stream",
     "text": [
      " r\n"
     ]
    },
    {
     "name": "stdout",
     "output_type": "stream",
     "text": [
      "Rock versus...\n",
      "Scissors\n",
      "You win!\n",
      "2 wins, 3 Losses, 0 Ties\n",
      "Enter your move: (r)ock (p)paper (s)cissors or (q)uit\n"
     ]
    }
   ],
   "source": [
    "import random, sys\n",
    "\n",
    "print('Rock, Paper, Scissors')\n",
    "\n",
    "# These variables keep track of the number of wins, losses, and ties.\n",
    "wins = 0\n",
    "losses = 0\n",
    "ties = 0\n",
    "\n",
    "while True: # The main game loop.\n",
    "    print('%s wins, %s Losses, %s Ties' % (wins, losses, ties))\n",
    "    while True: # The player input loop.\n",
    "        print('Enter your move: (r)ock (p)paper (s)cissors or (q)uit')\n",
    "        playerMove = input()\n",
    "        if playerMove == 'q':\n",
    "            sys.exit() # quit the program\n",
    "        if playerMove == 'r' or playerMove == 'p' or playerMove == 's':\n",
    "            break # break out of the player input loop.\n",
    "        print('Type one of r,p,s, or q')\n",
    "        \n",
    "    # Display what player chose:\n",
    "    if playerMove == 'r':\n",
    "            print('Rock versus...')\n",
    "    elif playerMove == 'p':\n",
    "            print('Paper versus...')\n",
    "    elif playerMove == 's':\n",
    "            print('Stone versus...')\n",
    "            \n",
    "    # Display what the computer chose:\n",
    "    randomNumber = random.randint(1, 3)\n",
    "    if randomNumber == 1:\n",
    "        computerMove = 'r'\n",
    "        print('Rock')\n",
    "    elif randomNumber == 2:\n",
    "        computerMove = 'p'\n",
    "        print('Paper')\n",
    "    elif randomNumber == 3:\n",
    "        computerMove = 's'\n",
    "        print('Scissors')\n",
    "            \n",
    "    # Display and record the win/loss/tie:\n",
    "    if playerMove == computerMove:\n",
    "        print('It is a tie!')\n",
    "        ties = ties + 1\n",
    "    elif playerMove == 'r' and computerMove == 's':\n",
    "        print('You win!')\n",
    "        wins = wins + 1\n",
    "    elif playerMove == 'p' and computerMove == 'r':\n",
    "        print('You win!')\n",
    "        wins = wins + 1\n",
    "    elif playerMove == 's' and computerMove == 'p':\n",
    "        print('You win!')\n",
    "        wins = wins + 1\n",
    "    elif playerMove == 'r' and computerMove == 'p':\n",
    "        print('You lose!')\n",
    "        losses = losses + 1\n",
    "    elif playerMove == 'p' and computerMove == 's':\n",
    "        print('You lose!')\n",
    "        losses = losses + 1\n",
    "    elif playerMove == 's' and computerMove == 'r':\n",
    "        print('You lose!')\n",
    "        losses = losses + 1"
   ]
  }
 ],
 "metadata": {
  "kernelspec": {
   "display_name": "Python 3",
   "language": "python",
   "name": "python3"
  },
  "language_info": {
   "codemirror_mode": {
    "name": "ipython",
    "version": 3
   },
   "file_extension": ".py",
   "mimetype": "text/x-python",
   "name": "python",
   "nbconvert_exporter": "python",
   "pygments_lexer": "ipython3",
   "version": "3.7.6"
  }
 },
 "nbformat": 4,
 "nbformat_minor": 4
}
